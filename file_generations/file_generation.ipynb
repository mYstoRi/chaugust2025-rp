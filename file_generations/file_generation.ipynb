{
 "cells": [
  {
   "cell_type": "code",
   "execution_count": 4,
   "id": "1e90ccff",
   "metadata": {},
   "outputs": [],
   "source": [
    "from rputils import reduce\n",
    "import os"
   ]
  },
  {
   "cell_type": "code",
   "execution_count": 17,
   "id": "4576401f",
   "metadata": {},
   "outputs": [],
   "source": [
    "# settings\n",
    "charm_name = \"Callicarpa Compound\"\n",
    "\n",
    "# one of alchemist, cleric, gen, mage, placeholders, rogue, scout, shaman, warlock, warrior\n",
    "charm_class = \"alchemist\"\n",
    "\n",
    "# one of rare, epic\n",
    "charm_rarity = \"epic\"\n",
    "\n",
    "# base item\n",
    "base_item = \"wither_rose\""
   ]
  },
  {
   "cell_type": "code",
   "execution_count": 18,
   "id": "bebeb1f0",
   "metadata": {},
   "outputs": [],
   "source": [
    "# consts\n",
    "cwd = \"../assets/minecraft/optifine/cit/architects_ring/charm\""
   ]
  },
  {
   "cell_type": "code",
   "execution_count": 19,
   "id": "1de1b70b",
   "metadata": {},
   "outputs": [],
   "source": [
    "# preprocess\n",
    "reduced_name = reduce(charm_name)\n",
    "\n",
    "if charm_class not in os.listdir(cwd):\n",
    "    os.mkdir(os.path.join(cwd, charm_class))\n",
    "cwd = os.path.join(cwd, charm_class)\n",
    "\n",
    "if charm_rarity not in os.listdir(cwd):\n",
    "    os.mkdir(os.path.join(cwd, charm_rarity))\n",
    "cwd = os.path.join(cwd, charm_rarity)\n",
    "\n",
    "if reduced_name not in os.listdir(cwd):\n",
    "    os.mkdir(os.path.join(cwd, reduced_name))\n",
    "cwd = os.path.join(cwd, reduced_name)\n",
    "\n",
    "# 1.20.4\n",
    "with open(os.path.join(cwd, f\"{reduced_name}.properties\"), \"w\") as prop:\n",
    "    out = \"type=item\\n\"\n",
    "    out += f\"items={base_item}\\n\"\n",
    "    out += \"model=optifine/cit/source_models/charm\\n\"\n",
    "    out += f\"texture={reduced_name}\\n\"\n",
    "    out += f\"nbt.plain.display.Name={charm_name}\"\n",
    "    prop.write(out)\n",
    "    \n",
    "# 1.20.5\n",
    "with open(os.path.join(cwd, f\"{reduced_name}_new_ver.properties\"), \"w\") as prop:\n",
    "    out = \"type=item\\n\"\n",
    "    out += f\"items={base_item}\\n\"\n",
    "    out += \"model=optifine/cit/source_models/charm\\n\"\n",
    "    out += f\"texture={reduced_name}\\n\"\n",
    "    out += f\"components.custom_data.plain.display.Name={charm_name}\"\n",
    "    prop.write(out)"
   ]
  },
  {
   "cell_type": "code",
   "execution_count": null,
   "id": "37f96359",
   "metadata": {},
   "outputs": [],
   "source": []
  }
 ],
 "metadata": {
  "kernelspec": {
   "display_name": "Python 3 (ipykernel)",
   "language": "python",
   "name": "python3"
  },
  "language_info": {
   "codemirror_mode": {
    "name": "ipython",
    "version": 3
   },
   "file_extension": ".py",
   "mimetype": "text/x-python",
   "name": "python",
   "nbconvert_exporter": "python",
   "pygments_lexer": "ipython3",
   "version": "3.9.9"
  }
 },
 "nbformat": 4,
 "nbformat_minor": 5
}
